{
 "cells": [
  {
   "cell_type": "markdown",
   "metadata": {},
   "source": [
    "# Basado en la practica de kenjyco: \n",
    "\n",
    "https://gist.github.com/kenjyco/69eeb503125035f21a9d\n",
    "\n",
    "## Nota rapida de las celdas de Jupyter Notebook\n",
    "\n",
    "Al momento de editar una celda los cambios no son ejecutados de inmediato por lo que es necesario volver a ejecutar dicha celda posterior a un cambio para reflejar los cambios. Esto es posible realizarlo presionando **`<Shift> + <Enter>`** proceso conocido como re-running.\n",
    "\n",
    "Usa **`<Enter>`** para crear nuevas lineas dentro de la celda seleccionada para edicion.\n",
    "\n",
    "#### Celdas de codigo\n",
    "\n",
    "Re-running ejecutara cualquier cambio realizado a la celda. Para editar el codigo presente en alguna celda unicamente se debe dar **`<click>`** en el.\n",
    "\n",
    "#### Celdas Marcadas\n",
    "\n",
    "Re-running renderizara denuevo el texto marcado. Para realizar cambios a estas celdas se debe dar **`<doble click>`** en ellas.\n",
    "\n",
    "<hr>"
   ]
  },
  {
   "cell_type": "markdown",
   "metadata": {},
   "source": [
    "## Operaciones comunes\n",
    "\n",
    "En la seccion superior de la ventana de Jupyter Notebook se encuentran las opciones de menu: (`File`, `Edit`, `View`, `Insert`, ...) y una fila de iconos de herramientas (disk, plus sign, scissors, 2 files, clipboard and file, up arrow, ...).\n",
    "\n",
    "\n",
    "- `File`: Nos permite crear nuevas Notebooks unicamente especificando el kernel a utilizar (ipykernel) el cual se encarga de realizar el computo necesario para producir el resultado esperado en cada celda.\n",
    "    - Open: Permite agregar o remover archivos al sistema de archivos asignado\n",
    "    - Copia: Distintas formas de realizar una copia del archivo \n",
    "    - Rename: Permite renombrar el archivo\n",
    "    - Checkpoint: Permite guardar un estado especifico del programa y luego poder volver a ese estado posterior\n",
    "    - Revert Checkpoint: Permite revertir estados\n",
    "    - Downlaod As: Distintos formatos para descargar el programa\n",
    "    \n",
    "- `Edit`: Opciones comunes que permiten copiar, pegar, cortar o realizar busquedas de palabras\n",
    "    - Adicional a esto permite unir celdas, separar celdas o moverlas\n",
    "    \n",
    "- `View`: Opciones de visualizacion de informacion\n",
    "\n",
    "- `Insert`: Permite agregar celdas nuevas\n",
    "\n",
    "- `Cell`: Distintos metodos de ejecucion de celdas como:\n",
    "    - Ejecutar unicamente la celda seleccionada\n",
    "    - Ejecutar todas las celdas\n",
    "    - Ejecutar la celda superior o inferior\n",
    "   \n",
    "- `Kernel`: Este es un entorno en tiempo de ejecucion que brinda soporte a un lenguaje de programacion, en este caso python\n",
    "    - Restart: permite borrar la salida de todas las celdas a un estado inicial sin ejecuciones\n",
    "\n",
    "- `Widgets`: Son elementos relacionados al ambiente grafico de nuestra Jupyter notebook, en el caso se tuvieran checkbox o cajas para insertar texto permite guardar el estado de todos estos elementos\n",
    "\n",
    "#### Agragando y removiendo celdas\n",
    "\n",
    "- Utilizando el simbolo `+` agrega una celda justo debajo de la celda actual\n",
    "- Utilizando `Insert` es posible seleccionar agregar una celda arriba o debajo de la actual\n",
    "\n",
    "#### Guardar el archivo localmente\n",
    "\n",
    "- Limpiar todas las celdas (Kernel -> Restart -> Clear all outputs)\n",
    "- Ir a `File` -> \"Download as\" -> \"IPython Notebook (.ipynb)\" \n",
    "\n",
    "<hr>"
   ]
  },
  {
   "cell_type": "markdown",
   "metadata": {},
   "source": [
    "## Referencias\n",
    "\n",
    "- https://jupyter-notebook.readthedocs.io/en/latest/notebook.html\n",
    "- https://mybinder.readthedocs.io/en/latest/introduction.html\n",
    "- https://docs.python.org/3/tutorial/index.html\n",
    "- https://docs.python.org/3/tutorial/introduction.html\n",
    "- https://daringfireball.net/projects/markdown/syntax\n",
    "\n",
    "<hr>"
   ]
  },
  {
   "cell_type": "markdown",
   "metadata": {},
   "source": [
    "## Objetos, tipos basicos y variables de Python\n",
    "\n",
    "En python todo es un **objeto** y todo objeto en Python tiene un **tipo**. Algunos de estos tipos pueden ser:\n",
    "- **`int`** (entero; un numero entero es decir que no cuenta con parte decimal)\n",
    "  - `20`\n",
    "  - `-7`\n",
    "- **`float`** (decimal; un numero que tiene una parte decimal)\n",
    "  - `9.17`\n",
    "  - `-0.00002`\n",
    "- **`str`** (string; es una secuencia de caracteres acotados por comillas simples, comillas dobles o comillas triples no se acepta una combinacion de estas)\n",
    "  - `'Este es un string usando comilla simple'`\n",
    "  - `\"Este es un string usando comilla doble\"`\n",
    "  - `'''Esta es un string entre comillas triples usando comillas simples'''`\n",
    "  - `\"\"\"Esta es un string entre comillas triples usando comillas dobles\"\"\"`\n",
    "- **`bool`** (booleano; es un valor binario que puede ser verdadero o falso)\n",
    "  - `True`\n",
    "  - `False`\n",
    "- **`NoneType`** (es una forma especial que permite indicar que el objeto carece de algun valor)\n",
    "  - `None`\n",
    "\n",
    "En python una **variable** es un nombre particular que elegimos para referirnos a un **objeto** en especifico en nuestro codigo el cual tendra un valor asignado.\n",
    "\n",
    "Una variable es una forma mas simple de referirnos a valores especificos haciendo mucho mas comprensible nuestro codigo, las variables no tienen una regla especifica para su creacion pero se suele recomendar usar nombres que hagan referencia a lo que la variable realice. Las variables solo pueden contener letras, guion bajo (`_`) o numeros. No es permitido usar espacios. Las variables deben iniciar con letras o guion bajo.\n",
    "\n",
    "<hr>"
   ]
  },
  {
   "cell_type": "markdown",
   "metadata": {},
   "source": [
    "## Operadores basicos\n",
    "\n",
    "En Python existen diferentes tipos de **operadores** (simbolos) que permiten operar diferentes valores. Algunos de estos operados pueden ser:\n",
    "\n",
    "- operadores aritmeticos\n",
    "  - **`+`** (suma)\n",
    "  - **`-`** (resta)\n",
    "  - **`*`** (multiplicacion)\n",
    "  - **`/`** (division)\n",
    "  - __`**`__ (exponente)\n",
    "- operadores de asignacion\n",
    "  - **`=`** (asigna un valor)\n",
    "  - **`+=`** (agrega y reasigna; incrementa)\n",
    "  - **`-=`** (Extrae y reasinga; decrementa)\n",
    "  - **`*=`** (multiplica y reasinga)\n",
    "- operadores de comparacion (la respuesta de estas operaciones son `True` o `False`)\n",
    "  - **`==`** (igual a)\n",
    "  - **`!=`** (no igual a)\n",
    "  - **`<`** (menos que)\n",
    "  - **`<=`** (menos que o igual a)\n",
    "  - **`>`** (mayor que)\n",
    "  - **`>=`** (mayor que o igual a)\n",
    "\n",
    "\n",
    "\n",
    "Cuando se utilizan varios operadores en una sola expresión, la **precedencia de operadores** determina qué partes de la expresión se evalúan y en qué orden. Los operadores con mayor precedencia se evalúan primero. Los operadores con la misma precedencia se evalúan de izquierda a derecha. La prioridad de ejecucion es:\n",
    "\n",
    "- `()` parentesis, para agrupar operaciones\n",
    "- `**` exponente\n",
    "- `*`, `/` multiplicacion o division\n",
    "- `+`, `-` suma y resta\n",
    "- `==`, `!=`, `<`, `<=`, `>`, `>=` comparaciones\n",
    "\n",
    "> ver: https://docs.python.org/3/reference/expressions.html#operator-precedence"
   ]
  },
  {
   "cell_type": "code",
   "execution_count": null,
   "metadata": {},
   "outputs": [],
   "source": [
    "# Asignar algunos valores a algunas variables\n",
    "num1 = 10\n",
    "num2 = -6\n",
    "num3 = 7.18\n",
    "num4 = -.2\n",
    "num5 = 4\n",
    "num6 = 6\n",
    "num7 = 14.14"
   ]
  },
  {
   "cell_type": "code",
   "execution_count": null,
   "metadata": {},
   "outputs": [],
   "source": [
    "# Suma\n",
    "num1 + num2"
   ]
  },
  {
   "cell_type": "code",
   "execution_count": null,
   "metadata": {},
   "outputs": [],
   "source": [
    "# Resta\n",
    "num2 - num3"
   ]
  },
  {
   "cell_type": "code",
   "execution_count": null,
   "metadata": {},
   "outputs": [],
   "source": [
    "# Multiplicacion\n",
    "num3 * num4"
   ]
  },
  {
   "cell_type": "code",
   "execution_count": null,
   "metadata": {},
   "outputs": [],
   "source": [
    "# Division\n",
    "num4 / num5"
   ]
  },
  {
   "cell_type": "code",
   "execution_count": null,
   "metadata": {},
   "outputs": [],
   "source": [
    "# Exponente\n",
    "num5 ** num6"
   ]
  },
  {
   "cell_type": "code",
   "execution_count": null,
   "metadata": {},
   "outputs": [],
   "source": [
    "# Incrementar un valor asignado\n",
    "num7 += 4\n",
    "num7"
   ]
  },
  {
   "cell_type": "code",
   "execution_count": null,
   "metadata": {},
   "outputs": [],
   "source": [
    "# Decrementar un valor asignado\n",
    "num6 -= 2\n",
    "num6"
   ]
  },
  {
   "cell_type": "code",
   "execution_count": null,
   "metadata": {},
   "outputs": [],
   "source": [
    "# Multiplicar y reasignar\n",
    "num3 *= 5\n",
    "num3"
   ]
  },
  {
   "cell_type": "code",
   "execution_count": null,
   "metadata": {},
   "outputs": [],
   "source": [
    "# Asignar el valor de una operacion a una variable\n",
    "num8 = num1 + num2 * num3\n",
    "num8"
   ]
  },
  {
   "cell_type": "code",
   "execution_count": null,
   "metadata": {},
   "outputs": [],
   "source": [
    "# Es la suma de estas dos variables igual a la otra\n",
    "num1 + num2 == num5"
   ]
  },
  {
   "cell_type": "code",
   "execution_count": null,
   "metadata": {},
   "outputs": [],
   "source": [
    "# Are these two expressions not equal to each other?\n",
    "num3 != num4"
   ]
  },
  {
   "cell_type": "code",
   "execution_count": null,
   "metadata": {},
   "outputs": [],
   "source": [
    "# Es el primer valor menor al segundo\n",
    "num5 < num6"
   ]
  },
  {
   "cell_type": "code",
   "execution_count": null,
   "metadata": {},
   "outputs": [],
   "source": [
    "# Es esta expresion verdadera?\n",
    "5 > 3 > 1"
   ]
  },
  {
   "cell_type": "code",
   "execution_count": null,
   "metadata": {},
   "outputs": [],
   "source": [
    "# Es esta expresion verdadera?\n",
    "5 > 3 < 4 == 3 + 1"
   ]
  },
  {
   "cell_type": "code",
   "execution_count": null,
   "metadata": {},
   "outputs": [],
   "source": [
    "# Asignar algun string a una variable\n",
    "simple_string1 = 'un ejemplo'\n",
    "simple_string2 = \"naranjas \""
   ]
  },
  {
   "cell_type": "code",
   "execution_count": null,
   "metadata": {},
   "outputs": [],
   "source": [
    "# Suma en string\n",
    "simple_string1 + ' de usar el operador + en strings'"
   ]
  },
  {
   "cell_type": "code",
   "execution_count": null,
   "metadata": {},
   "outputs": [],
   "source": [
    "# El string no fue reasignado por lo que el valor se mantiene igual\n",
    "simple_string1"
   ]
  },
  {
   "cell_type": "code",
   "execution_count": null,
   "metadata": {},
   "outputs": [],
   "source": [
    "# Multiplicacion de string\n",
    "simple_string2 * 4"
   ]
  },
  {
   "cell_type": "code",
   "execution_count": null,
   "metadata": {
    "scrolled": true
   },
   "outputs": [],
   "source": [
    "# El segundo string tampoco fue reasignado por lo que el valor se mantiene igual\n",
    "simple_string2"
   ]
  },
  {
   "cell_type": "code",
   "execution_count": null,
   "metadata": {},
   "outputs": [],
   "source": [
    "# Son estos dos strings iguales?\n",
    "simple_string1 == simple_string2"
   ]
  },
  {
   "cell_type": "code",
   "execution_count": null,
   "metadata": {},
   "outputs": [],
   "source": [
    "# Es esta expresion igual al string?\n",
    "simple_string1 == 'un ejemplo'"
   ]
  },
  {
   "cell_type": "code",
   "execution_count": null,
   "metadata": {},
   "outputs": [],
   "source": [
    "# agregar y reasingar\n",
    "simple_string1 += ' esto reasigna un valor a la variable'\n",
    "simple_string1"
   ]
  },
  {
   "cell_type": "code",
   "execution_count": null,
   "metadata": {},
   "outputs": [],
   "source": [
    "# Multiplicacion y reasignacion\n",
    "simple_string2 *= 3\n",
    "simple_string2"
   ]
  },
  {
   "cell_type": "raw",
   "metadata": {},
   "source": [
    "Nota: resta, division, y decremento no son operadores validos en strings."
   ]
  },
  {
   "cell_type": "markdown",
   "metadata": {},
   "source": [
    "## Contenedores basicos\n",
    "\n",
    "> Nota: objetos **mutables** pueden ser modificados despues de su creacion mientras los **imutables** no es posible modificarlos.\n",
    "\n",
    "Los contenedores son objetos que pueden ser usados para agrupar otros objetos. El continedor basico puede incluir:\n",
    "- **`str`** (string: immutable; indexado por enteros; los items son almacenados en el orden en que se agregan)\n",
    "- **`list`** (lista: mutable; indexado por enteros; los items son almacenados en el orden en que se agregan; se distingue por el actodador `[ ]`)\n",
    "  - `[3, 5, 6, 3, 'perro', 'gato', False]`\n",
    "- **`tuple`** (tupla: immutable; indexado por enteros; los items son almacenados en el orden en que se agregan; se distingue por el acotador `( )`)\n",
    "  - `(3, 5, 6, 3, 'perro', 'gato', False)`\n",
    "- **`set`** (set: mutable; no es indexado; los intems no son almacenados en el orden en que se agregan; solo puede contener objetos inmutables; no puede contener objetos duplicados; se distingue por el acotador `{ }`)\n",
    "  - `{3, 5, 6, 3, 'perro', 'gato', False}`\n",
    "- **`dict`** (diccionario: mutable; los objetos son indexados en pares con una llave inmutable; los items no son almacenados en el orden en que se agregan)\n",
    "  - `{'nombre': 'Juana', 'edad': 23, 'comida_favorita': ['pizza', 'fruta', 'pasta']}`\n",
    "\n",
    "Cuando se definen listas, tuplas o sets se usan comas `,` para separar los items individualmente. Cuando se define un diccionario se utilizan los dos puntos `:` para separar llaves de valores y comas `,` para separar los valores de las llaves.\n",
    "\n",
    "Strings, listas, y tuplas todas son de **tipo secuencia** que pueden usar los operadores `+`, `*`, `+=`, y `*=`."
   ]
  },
  {
   "cell_type": "code",
   "execution_count": null,
   "metadata": {},
   "outputs": [],
   "source": [
    "# Asignar contenedores a variables\n",
    "list1 = [3, 5, 6, 3, 'perro', 'gato', False]\n",
    "tuple1 = (3, 5, 6, 3, 'perro', 'gato', False)\n",
    "set1 = {3, 5, 6, 3, 'perro', 'gato', False}\n",
    "dict1 = {'nombre': 'Juana', 'edad': 23, 'comida_favorita': ['pizza', 'fruta', 'pasta']}"
   ]
  },
  {
   "cell_type": "code",
   "execution_count": null,
   "metadata": {},
   "outputs": [],
   "source": [
    "# Orden de almacenamiento\n",
    "list1"
   ]
  },
  {
   "cell_type": "code",
   "execution_count": null,
   "metadata": {},
   "outputs": [],
   "source": [
    "# Orden de almacenamiento\n",
    "tuple1"
   ]
  },
  {
   "cell_type": "code",
   "execution_count": null,
   "metadata": {},
   "outputs": [],
   "source": [
    "# Orden de almacenamiento\n",
    "# Tambien se elimina una entrada del caracter 3 ya que este se repetia\n",
    "set1"
   ]
  },
  {
   "cell_type": "code",
   "execution_count": null,
   "metadata": {},
   "outputs": [],
   "source": [
    "# Orden de almacenamiento\n",
    "dict1"
   ]
  },
  {
   "cell_type": "code",
   "execution_count": null,
   "metadata": {},
   "outputs": [],
   "source": [
    "# Agregar y reasignar\n",
    "list1 += [5, 'uvas']\n",
    "list1"
   ]
  },
  {
   "cell_type": "code",
   "execution_count": null,
   "metadata": {},
   "outputs": [],
   "source": [
    "# Agregar y reasignar\n",
    "tuple1 += (5, 'uvas')\n",
    "tuple1"
   ]
  },
  {
   "cell_type": "code",
   "execution_count": null,
   "metadata": {},
   "outputs": [],
   "source": [
    "# Multiplicar\n",
    "[1, 2, 3, 4] * 2"
   ]
  },
  {
   "cell_type": "code",
   "execution_count": null,
   "metadata": {},
   "outputs": [],
   "source": [
    "# Multiplicar\n",
    "(1, 2, 3, 4) * 3"
   ]
  },
  {
   "cell_type": "markdown",
   "metadata": {},
   "source": [
    "## Accesando datos en un contenedor\n",
    "\n",
    "Para strings, listas, tuplas y diccionarios se peuden usar **subscript notation** (corchetes) para accesar data indexada colocando el valor de la posicion del valor que queremos accesar.\n",
    "\n",
    "- strings, listas, and tuplas son indexadas por enteros, **empezando en 0** para el primer item\n",
    "  - esta tipo de secuencia tambien soporta accesar un rango de items, conocido como **slicing**\n",
    "  - tambien podemos usar **indices negativos** para revisarla en direccion contrario, de final a inicio.\n",
    "- Los diccionarios son indexados por llaves\n",
    "\n",
    "> Nota: los sets no son indexados, no se puede utilizar una notacion de este tipo para accesar a sus elementos."
   ]
  },
  {
   "cell_type": "code",
   "execution_count": null,
   "metadata": {},
   "outputs": [],
   "source": [
    "# Accesando el primer item\n",
    "list1[0]"
   ]
  },
  {
   "cell_type": "code",
   "execution_count": null,
   "metadata": {},
   "outputs": [],
   "source": [
    "# Accesando el ultimo item\n",
    "tuple1[-1]"
   ]
  },
  {
   "cell_type": "code",
   "execution_count": null,
   "metadata": {},
   "outputs": [],
   "source": [
    "# Accesando un rango de items\n",
    "simple_string1[3:8]"
   ]
  },
  {
   "cell_type": "code",
   "execution_count": null,
   "metadata": {},
   "outputs": [],
   "source": [
    "# Accesando un rango de items en orden contrario\n",
    "tuple1[:-3]"
   ]
  },
  {
   "cell_type": "code",
   "execution_count": null,
   "metadata": {},
   "outputs": [],
   "source": [
    "# Accesando un rango de items desde un punto que no es el inicial\n",
    "list1[4:]"
   ]
  },
  {
   "cell_type": "code",
   "execution_count": null,
   "metadata": {},
   "outputs": [],
   "source": [
    "# Accesando items en un diccionario\n",
    "dict1['nombre']"
   ]
  },
  {
   "cell_type": "code",
   "execution_count": null,
   "metadata": {},
   "outputs": [],
   "source": [
    "# Accesar un elemento de un diccionario\n",
    "dict1['comida_favorita'][2]"
   ]
  },
  {
   "cell_type": "markdown",
   "metadata": {},
   "source": [
    "## Funciones integradas en Python\n",
    "\n",
    "Una **funcion** es un objeto en python que puede ser llamado para **resalizar una accion** o computar y **devolver otro objeto**. Una funcion se puede llamar colocando parentesis al lado derecho del nombre de la funcion.\n",
    "Algunas funciones permiten enviar **argumentos** dentro del parentesis (cuando son multiples argumentos estos se separan por comas). Los argumentos deben ser del tipo esperado para la funcion realizar la tarea por lo que estos argumentos deben ser bien conocidos para evitar errores ya que dentro de la funcion estos argumentos seran usados como variables normales.\n",
    "\n",
    "Python tiene diferentes funciones integradas que ayudan a trabajar con diferentes tipos de objetos. Algunos ejemplos son:\n",
    "\n",
    "- **`type(obj)`** determina el tipo de objeto de obj\n",
    "- **`len(container)`** determina la longitud de un contenedor\n",
    "- **`callable(obj)`** determina si el objeto es referenciable\n",
    "- **`sorted(container)`** devuelve una lista nueva del contenedor con los items ordenados\n",
    "- **`sum(container)`** permite la suma de contenedores\n",
    "- **`min(container)`** determina el item menor de un contenedor\n",
    "- **`max(container)`** determina el item mayor de un contenedor\n",
    "- **`abs(number)`** determina el valor absoluto de un numero\n",
    "- **`repr(obj)`** devuelve la representacion del objeto obj\n",
    "\n",
    "> Lista completa de funciones: https://docs.python.org/3/library/functions.html"
   ]
  },
  {
   "cell_type": "code",
   "execution_count": null,
   "metadata": {},
   "outputs": [],
   "source": [
    "# Uso de la funcion type()\n",
    "type(simple_string1)"
   ]
  },
  {
   "cell_type": "code",
   "execution_count": null,
   "metadata": {},
   "outputs": [],
   "source": [
    "# Uso de la funcion len()\n",
    "len(dict1)"
   ]
  },
  {
   "cell_type": "code",
   "execution_count": null,
   "metadata": {},
   "outputs": [],
   "source": [
    "# Uso de la funcion len() \n",
    "len(simple_string2)"
   ]
  },
  {
   "cell_type": "code",
   "execution_count": null,
   "metadata": {},
   "outputs": [],
   "source": [
    "# Uso de la funcion callable()\n",
    "callable(len)"
   ]
  },
  {
   "cell_type": "code",
   "execution_count": null,
   "metadata": {},
   "outputs": [],
   "source": [
    "# Uso de la funcion callable()\n",
    "callable(dict1)"
   ]
  },
  {
   "cell_type": "code",
   "execution_count": null,
   "metadata": {},
   "outputs": [],
   "source": [
    "# Uso de la funcion sorted()\n",
    "sorted([10, 1, 3.6, 7, 5, 2, -3])"
   ]
  },
  {
   "cell_type": "code",
   "execution_count": null,
   "metadata": {},
   "outputs": [],
   "source": [
    "# Uso de la funcion sorted() \n",
    "# - Ordena las palabras con mayusculas primero\n",
    "sorted(['perros', 'gatos', 'zebras', 'Animales', 'Plantas', 'hormiga', 'raton'])"
   ]
  },
  {
   "cell_type": "code",
   "execution_count": null,
   "metadata": {},
   "outputs": [],
   "source": [
    "# Uso de la funcion sum()\n",
    "sum([10, 1, 3.6, 7, 5, 2, -3])"
   ]
  },
  {
   "cell_type": "code",
   "execution_count": null,
   "metadata": {},
   "outputs": [],
   "source": [
    "# Uso de la funcion min()\n",
    "min([10, 1, 3.6, 7, 5, 2, -3])"
   ]
  },
  {
   "cell_type": "code",
   "execution_count": null,
   "metadata": {},
   "outputs": [],
   "source": [
    "# Uso de la funcion = min()\n",
    "min(['g', 'z', 'a', 'y'])"
   ]
  },
  {
   "cell_type": "code",
   "execution_count": null,
   "metadata": {},
   "outputs": [],
   "source": [
    "# Uso de la funcion max()\n",
    "max([10, 1, 3.6, 7, 5, 2, -3])"
   ]
  },
  {
   "cell_type": "code",
   "execution_count": null,
   "metadata": {},
   "outputs": [],
   "source": [
    "# Uso de la funcion max() \n",
    "max('califragilisticoespialidoso')"
   ]
  },
  {
   "cell_type": "code",
   "execution_count": null,
   "metadata": {},
   "outputs": [],
   "source": [
    "# Uso de la funcion abs()\n",
    "abs(10)"
   ]
  },
  {
   "cell_type": "code",
   "execution_count": null,
   "metadata": {},
   "outputs": [],
   "source": [
    "# Uso de la funcion abs()\n",
    "abs(-12)"
   ]
  },
  {
   "cell_type": "code",
   "execution_count": null,
   "metadata": {},
   "outputs": [],
   "source": [
    "# Uso de la funcion repr()\n",
    "repr(set1)"
   ]
  },
  {
   "cell_type": "markdown",
   "metadata": {},
   "source": [
    "## atributos objeto en Python (metodos y propiedades)\n",
    "\n",
    "Diferentes tipos de objeto en Python tienen diferentes **atributos** que pueden ser referidor por nombre (parecido a las variables). Para accesar el atributo de un objeto se debe usar el caracter `.` despues del objeto, luego especificar el atributo que se desea. (ej. `obj.attribute`)\n",
    "\n",
    "Cuando el atributo de un objeto es referenciable, ese atributo es llamado un **metodo**. Es lo mismo que una funcion con la diferencia que esta funcion esta unida a este objeto en particular.\n",
    "\n",
    "Cuando un atributo de un objeto no es referenciable, ese atributo es llamado **propiedad**. Este es un pedaso de data de ese objeto, que es unica de otro objeto.\n",
    "\n",
    "La funcion integrada `dir()` puede ser usada para devolver una lista de atributos de un objeto.\n",
    "\n",
    "<hr>"
   ]
  },
  {
   "cell_type": "markdown",
   "metadata": {},
   "source": [
    "## Algunos metodos en objetos string\n",
    "\n",
    "- **`.capitalize()`** retorna una version en mayuscula del string (solo la primera letra en mayuscula)\n",
    "- **`.upper()`** retorna una version en mayuscula del string (todo el string en mayusculas)\n",
    "- **`.lower()`** retorna una version en minusculas del string (todo el string en minusculas)\n",
    "- **`.count(substring)`** retorna el numero de ocurrencias de un substring en ese string\n",
    "- **`.startswith(substring)`** permite determinar si un string inicia con un substring especifico\n",
    "- **`.endswith(substring)`** permite determinar si un string termina con un substring especifico\n",
    "- **`.replace(old, new)`** retorna una copia del string con ocurrencias de `old` reemplazadas por `new`"
   ]
  },
  {
   "cell_type": "code",
   "execution_count": null,
   "metadata": {},
   "outputs": [],
   "source": [
    "# Assignar un string a una variable\n",
    "a_string = 'eSte es un sTrINg'"
   ]
  },
  {
   "cell_type": "code",
   "execution_count": null,
   "metadata": {},
   "outputs": [],
   "source": [
    "# Retorna la verzion en mayuscula del string\n",
    "a_string.capitalize()"
   ]
  },
  {
   "cell_type": "code",
   "execution_count": null,
   "metadata": {},
   "outputs": [],
   "source": [
    "# Retorna la verzion en mayuscula del string\n",
    "a_string.upper()"
   ]
  },
  {
   "cell_type": "code",
   "execution_count": null,
   "metadata": {},
   "outputs": [],
   "source": [
    "# Retorna la version en minuscula del string\n",
    "a_string.lower()"
   ]
  },
  {
   "cell_type": "code",
   "execution_count": null,
   "metadata": {},
   "outputs": [],
   "source": [
    "# Los metodos usados no han modificado el string ya que solo accesan a ese atributo en especifico\n",
    "a_string"
   ]
  },
  {
   "cell_type": "code",
   "execution_count": null,
   "metadata": {},
   "outputs": [],
   "source": [
    "# Cuenta el numero de ocurrencias del caracter s\n",
    "a_string.count('s')"
   ]
  },
  {
   "cell_type": "code",
   "execution_count": null,
   "metadata": {},
   "outputs": [],
   "source": [
    "# Cuenta el numero de ocurrecnais de un substring en el string apartir de una posicion especifica\n",
    "a_string.count('s', 7)"
   ]
  },
  {
   "cell_type": "code",
   "execution_count": null,
   "metadata": {},
   "outputs": [],
   "source": [
    "# Cuenta el numero de ocurrencias de un substring\n",
    "a_string.count('es')"
   ]
  },
  {
   "cell_type": "code",
   "execution_count": null,
   "metadata": {},
   "outputs": [],
   "source": [
    "# El string inicia con 'este'?\n",
    "a_string.startswith('este')"
   ]
  },
  {
   "cell_type": "code",
   "execution_count": null,
   "metadata": {},
   "outputs": [],
   "source": [
    "# La version en miniuscula del string inicia con 'este'?\n",
    "a_string.lower().startswith('este')"
   ]
  },
  {
   "cell_type": "code",
   "execution_count": null,
   "metadata": {},
   "outputs": [],
   "source": [
    "# El string termina con 'Ng'?\n",
    "a_string.endswith('Ng')"
   ]
  },
  {
   "cell_type": "code",
   "execution_count": null,
   "metadata": {},
   "outputs": [],
   "source": [
    "# Retorna una version del string reemplazando el substring 'XYZ'\n",
    "a_string.replace('es', 'XYZ')"
   ]
  },
  {
   "cell_type": "code",
   "execution_count": null,
   "metadata": {},
   "outputs": [],
   "source": [
    "# Retorna una version del string reemplazando un substring por otra cosa\n",
    "a_string.replace('s', '!')"
   ]
  },
  {
   "cell_type": "code",
   "execution_count": null,
   "metadata": {},
   "outputs": [],
   "source": [
    "# Retorna una version del string reemplazando un substring por otra cosa en las primeras dos ocurrencias\n",
    "a_string.replace('s', '!', 2)"
   ]
  },
  {
   "cell_type": "markdown",
   "metadata": {
    "collapsed": true
   },
   "source": [
    "## Algunos metodos en listas\n",
    "\n",
    "- **`.append(item)`** agrega un item a la lista\n",
    "- **`.extend([item1, item2, ...])`** agrega multiples items a la lista\n",
    "- **`.remove(item)`** remueve un unico item de la lista\n",
    "- **`.pop()`** remueve y retorna el item al final de la lista\n",
    "- **`.pop(index)`** remueve y retorna un item en un indice especifico"
   ]
  },
  {
   "cell_type": "code",
   "execution_count": null,
   "metadata": {},
   "outputs": [],
   "source": []
  },
  {
   "cell_type": "code",
   "execution_count": null,
   "metadata": {},
   "outputs": [],
   "source": []
  },
  {
   "cell_type": "markdown",
   "metadata": {},
   "source": [
    "## Algunos metodos en sets\n",
    "\n",
    "- **`.add(item)`** agrega un unico item al set\n",
    "- **`.update([item1, item2, ...])`** agrega multiples items en el set\n",
    "- **`.update(set2, set3, ...)`** agrgea items a todos los sets\n",
    "- **`.remove(item)`** remueve un unico item del set\n",
    "- **`.pop()`** remueve y retorna un item aleatorio del set\n",
    "- **`.difference(set2)`** retorna items en el set que no se encuentren en el segundo set\n",
    "- **`.intersection(set2)`** retorna items en ambos sets\n",
    "- **`.union(set2)`** retorna items que estan en ambos sets\n",
    "- **`.symmetric_difference(set2)`** retorna items que estan solo en un set\n",
    "- **`.issuperset(set2)`** el set contiene todo lo que esta en el otro set?\n",
    "- **`.issubset(set2)`** esta el set contenido en el otro set?"
   ]
  },
  {
   "cell_type": "code",
   "execution_count": null,
   "metadata": {},
   "outputs": [],
   "source": []
  },
  {
   "cell_type": "code",
   "execution_count": null,
   "metadata": {},
   "outputs": [],
   "source": []
  },
  {
   "cell_type": "markdown",
   "metadata": {},
   "source": [
    "## Algunos metodos en diccionarios\n",
    "\n",
    "- **`.update([(key1, val1), (key2, val2), ...])`** agrega multiples llaves\n",
    "- **`.update(dict2)`** agrega las llaves y valores de otro diccionario\n",
    "- **`.pop(key)`** remueve y devuelve la llave de un diccionario\n",
    "- **`.pop(key, default_val)`** remueve y devuelve la llave de un diccionario en caso esta exista devuelve defualt_val\n",
    "- **`.get(key)`** retorna el valor de una llave especificada (retorna `None` en caso no encuentre el valor)\n",
    "- **`.get(key, default_val)`** retorna le valor de una llave especificada en el diccionario en caso esta no exista devuelve default_val\n",
    "- **`.keys()`** retorna una lista de llaves en el diccionario\n",
    "- **`.values()`** retorna una lista con valores en el diccionario\n",
    "- **`.items()`** retorna una lista de tuplas con llaves y valores en el diccionario"
   ]
  },
  {
   "cell_type": "code",
   "execution_count": null,
   "metadata": {},
   "outputs": [],
   "source": []
  },
  {
   "cell_type": "code",
   "execution_count": null,
   "metadata": {},
   "outputs": [],
   "source": []
  },
  {
   "cell_type": "markdown",
   "metadata": {},
   "source": [
    "## Argumentos posicionales y palabras clave para argumentos referenciables\n",
    "\n",
    "Podemos llamar una funcion/metodo de formas diferentes:\n",
    "\n",
    "- `func()`: Llama `func` sin argumentos\n",
    "- `func(arg)`: Llama `func` con un argumento posicional\n",
    "- `func(arg1, arg2)`: Llama `func` con dos argumentos posicionales (el orden de los argumentos es importante)\n",
    "- `func(arg1, arg2, ..., argn)`: Llama `func` con muchos argumentos posicionales (el orden de los argumentos es importante)\n",
    "- `func(kwarg=value)`: Llama `func` con una palabra clave como argumento \n",
    "- `func(kwarg1=value1, kwarg2=value2)`: Llama `func` con dos palabras clave como argumento\n",
    "- `func(kwarg1=value1, kwarg2=value2, ..., kwargn=valuen)`: Llama `func` con muchas palabras clave como argumento\n",
    "- `func(arg1, arg2, kwarg1=value1, kwarg2=value2)`: Llama `func` argumentos y palabras claves\n",
    "- `obj.method()`: Lo mismo para `func`.. y toda otra `func`\n",
    "\n",
    "Cuando usamos **argumentos posicionales**, debemos proveerlos en un orden que fue definido en la misma funcion (la **firma** de la funcion).\n",
    "\n",
    "Cuando usamos **palabras clave como argumentos**, podemos proveer argumentos como querramos, no hay un orden especifico, siempre y cuando se especifique correctamente el nombre del argumento.\n",
    "\n",
    "Cuando usamos argumentos y palabras clave, los argumentos deben ir primero."
   ]
  },
  {
   "cell_type": "code",
   "execution_count": null,
   "metadata": {},
   "outputs": [],
   "source": []
  },
  {
   "cell_type": "code",
   "execution_count": null,
   "metadata": {},
   "outputs": [],
   "source": []
  },
  {
   "cell_type": "markdown",
   "metadata": {},
   "source": [
    "## Ciclo for en Python\n",
    "\n",
    "Es fácil **iterar** sobre una colección de elementos usando un **bucle for**. Las cadenas, listas, tuplas, conjuntos y diccionarios que definimos son todos contenedores **iterables**.\n",
    "\n",
    "El bucle for pasará por el contenedor especificado, un elemento a la vez, y proporcionará una variable temporal para el elemento actual. Puede utilizar esta variable temporal como una variable normal."
   ]
  },
  {
   "cell_type": "code",
   "execution_count": null,
   "metadata": {},
   "outputs": [],
   "source": [
    "a = 0\n",
    "for i in [1, 2, 3, 4]:\n",
    "    print(i, end=\", \")\n",
    "print(\"\\nEl ciclo for ya acabo\")"
   ]
  },
  {
   "cell_type": "code",
   "execution_count": null,
   "metadata": {},
   "outputs": [],
   "source": []
  },
  {
   "cell_type": "markdown",
   "metadata": {},
   "source": [
    "## Ciclos if y while en Python\n",
    "\n",
    "Las expresiones condicionales se pueden usar con estas dos **sentencias condicionales**.\n",
    "\n",
    "La instrucción **if** le permite probar una condición y realizar algunas acciones si la condición se evalúa como `True`. También puede proporcionar cláusulas `elif` y/o `else` a una declaración if para tomar acciones alternativas si la condición se evalúa como `False`.\n",
    "\n",
    "El ciclo **while** continuará hasta que su expresión condicional se evalúe como `False`.\n",
    "\n",
    "> Nota: Es posible \"repetir para siempre\" cuando se usa un ciclo while con una expresión condicional que nunca se evalúa como `False`.\n",
    ">\n",
    "> Nota: Dado que **for loop** iterará sobre un contenedor de elementos hasta que no haya más, no hay necesidad de especificar una condición de \"detener el ciclo\"."
   ]
  },
  {
   "cell_type": "code",
   "execution_count": null,
   "metadata": {},
   "outputs": [],
   "source": [
    "# Semaforo\n",
    "color = 'amarillo' #pueden modificar el color a 'verde' o 'rojo'\n",
    "if color == 'verde':\n",
    "    print('Acelera')\n",
    "elif color == 'amarillo':\n",
    "    print('Atencion')\n",
    "else:\n",
    "    print('Parar')"
   ]
  },
  {
   "cell_type": "code",
   "execution_count": null,
   "metadata": {},
   "outputs": [],
   "source": [
    "# ejemplo while\n",
    "i = 0\n",
    "while i<5:\n",
    "    i += 1\n",
    "    print(i)"
   ]
  },
  {
   "cell_type": "markdown",
   "metadata": {},
   "source": [
    "## Creando objetos de argumentos u otros objetos\n",
    "\n",
    "Los tipos y contenedores básicos que hemos usado hasta ahora proporcionan **constructores de tipos**:\n",
    "\n",
    "- `int()`\n",
    "- `float()`\n",
    "- `str()`\n",
    "- `list()`\n",
    "- `tuple()`\n",
    "- `set()`\n",
    "- `dict()`\n",
    "\n",
    "Hasta este punto, hemos estado definiendo objetos de estos tipos integrados utilizando algunos atajos sintácticos, ya que son muy comunes.\n",
    "\n",
    "A veces, tendrá un objeto de un tipo que necesita convertir a otro tipo. Use el **constructor de tipos** para el tipo de objeto que desea tener y pase el objeto que tiene actualmente."
   ]
  },
  {
   "cell_type": "code",
   "execution_count": null,
   "metadata": {},
   "outputs": [],
   "source": []
  },
  {
   "cell_type": "code",
   "execution_count": null,
   "metadata": {},
   "outputs": [],
   "source": []
  },
  {
   "cell_type": "markdown",
   "metadata": {},
   "source": [
    "## Classes: Creando tus propios objetos"
   ]
  },
  {
   "cell_type": "code",
   "execution_count": null,
   "metadata": {},
   "outputs": [],
   "source": [
    "# Defina una nueva clase llamada `Cosa` que se deriva del objeto base de Python\n",
    "class Cosa(object):\n",
    "    my_property = 'Yo soy una \"cosa\"'\n",
    "\n",
    "\n",
    "# Defina una nueva clase llamada `DictThing` que se deriva del tipo `dict`\n",
    "class DicCosa(dict):\n",
    "    my_property = 'Yo soy una \"DicCosa\"'"
   ]
  },
  {
   "cell_type": "code",
   "execution_count": null,
   "metadata": {},
   "outputs": [],
   "source": [
    "print(Cosa)\n",
    "print(type(Cosa))\n",
    "print(DicCosa)\n",
    "print(type(DicCosa))\n",
    "print(issubclass(DicCosa, dict))\n",
    "print(issubclass(DicCosa, object))"
   ]
  },
  {
   "cell_type": "code",
   "execution_count": null,
   "metadata": {},
   "outputs": [],
   "source": [
    "# Creamos \"instancias\" de nuestras nuevas clases\n",
    "t = Cosa()\n",
    "d = DicCosa()\n",
    "print(t)\n",
    "print(type(t))\n",
    "print(d)\n",
    "print(type(d))"
   ]
  },
  {
   "cell_type": "code",
   "execution_count": null,
   "metadata": {},
   "outputs": [],
   "source": [
    "# Interactuamos con una instancia de DictCosa como lo haría con un diccionario normal\n",
    "d['nombre'] = 'Juan'\n",
    "print(d)"
   ]
  },
  {
   "cell_type": "code",
   "execution_count": null,
   "metadata": {},
   "outputs": [],
   "source": [
    "d.update({\n",
    "        'edad': 13,\n",
    "        'comida_fav': ['pizza', 'pasta', 'fruta', 'waffles'],\n",
    "        'color_fav': 'verde',\n",
    "    })\n",
    "print(d)"
   ]
  },
  {
   "cell_type": "code",
   "execution_count": null,
   "metadata": {},
   "outputs": [],
   "source": [
    "print(t.my_property)\n",
    "print(d.my_property)"
   ]
  },
  {
   "cell_type": "code",
   "execution_count": null,
   "metadata": {},
   "outputs": [],
   "source": []
  }
 ],
 "metadata": {
  "kernelspec": {
   "display_name": "Python 3 (ipykernel)",
   "language": "python",
   "name": "python3"
  },
  "language_info": {
   "codemirror_mode": {
    "name": "ipython",
    "version": 3
   },
   "file_extension": ".py",
   "mimetype": "text/x-python",
   "name": "python",
   "nbconvert_exporter": "python",
   "pygments_lexer": "ipython3",
   "version": "3.10.6"
  }
 },
 "nbformat": 4,
 "nbformat_minor": 1
}
